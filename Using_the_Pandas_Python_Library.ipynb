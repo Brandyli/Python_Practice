{
  "nbformat": 4,
  "nbformat_minor": 0,
  "metadata": {
    "colab": {
      "name": "Using the Pandas Python Library.ipynb",
      "provenance": [],
      "authorship_tag": "ABX9TyM9sSMqJ+Ldw4UjWOIKY19y",
      "include_colab_link": true
    },
    "kernelspec": {
      "name": "python3",
      "display_name": "Python 3"
    }
  },
  "cells": [
    {
      "cell_type": "markdown",
      "metadata": {
        "id": "view-in-github",
        "colab_type": "text"
      },
      "source": [
        "<a href=\"https://colab.research.google.com/github/Brandyli/Python_Practice/blob/master/Using_the_Pandas_Python_Library.ipynb\" target=\"_parent\"><img src=\"https://colab.research.google.com/assets/colab-badge.svg\" alt=\"Open In Colab\"/></a>"
      ]
    },
    {
      "cell_type": "markdown",
      "metadata": {
        "id": "Lzi0Wlkt4OL3",
        "colab_type": "text"
      },
      "source": [
        "analyze NBA results provided by FiveThirtyEight in a 17MB CSV file. \n",
        "Create a script download_nba_all_elo.py to download the data"
      ]
    },
    {
      "cell_type": "markdown",
      "metadata": {
        "id": "ZzPRga1N9EKQ",
        "colab_type": "text"
      },
      "source": [
        "When I excute the script, it will save the file nba_all_elo.csv in your current working directory."
      ]
    },
    {
      "cell_type": "code",
      "metadata": {
        "id": "8j380BOD3wus",
        "colab_type": "code",
        "colab": {
          "base_uri": "https://localhost:8080/",
          "height": 34
        },
        "outputId": "88a4146a-cd88-43ab-92e5-0b13fe4e5abb"
      },
      "source": [
        "import requests\n",
        "\n",
        "download_url = \"https://raw.githubusercontent.com/fivethirtyeight/data/master/nba-elo/nbaallelo.csv\"\n",
        "target_csv_path = \"nba_all_elo.csv\"\n",
        "\n",
        "response = requests.get(download_url)\n",
        "response.raise_for_status()    # Check that the request was successful\n",
        "with open(target_csv_path, \"wb\") as f:\n",
        "    f.write(response.content)\n",
        "print(\"Download ready.\")"
      ],
      "execution_count": 37,
      "outputs": [
        {
          "output_type": "stream",
          "text": [
            "Download ready.\n"
          ],
          "name": "stdout"
        }
      ]
    },
    {
      "cell_type": "markdown",
      "metadata": {
        "id": "JFk2uAzuJxCB",
        "colab_type": "text"
      },
      "source": [
        "I use pd.read_csv to read my dataset and store it as a DataFrame object. similar functions like read_json(), read_html(), and read_sql_table(). \n"
      ]
    },
    {
      "cell_type": "code",
      "metadata": {
        "id": "kfmZ-t4F38S6",
        "colab_type": "code",
        "colab": {
          "base_uri": "https://localhost:8080/",
          "height": 34
        },
        "outputId": "d77cb741-7447-48fa-f564-0e7bcd2a4c8f"
      },
      "source": [
        "import pandas as pd\n",
        "nba = pd.read_csv(\"nba_all_elo.csv\")\n",
        "type(nba)"
      ],
      "execution_count": 38,
      "outputs": [
        {
          "output_type": "execute_result",
          "data": {
            "text/plain": [
              "pandas.core.frame.DataFrame"
            ]
          },
          "metadata": {
            "tags": []
          },
          "execution_count": 38
        }
      ]
    },
    {
      "cell_type": "markdown",
      "metadata": {
        "id": "tgxPNEfe4Lab",
        "colab_type": "text"
      },
      "source": [
        "len() to determine the number of row\n",
        ".shape to see its dimensionality or column"
      ]
    },
    {
      "cell_type": "code",
      "metadata": {
        "id": "3cXvFv8SKWqb",
        "colab_type": "code",
        "colab": {
          "base_uri": "https://localhost:8080/",
          "height": 34
        },
        "outputId": "14db4cdd-6af8-4e6d-feda-d317d0f731b0"
      },
      "source": [
        "len(nba)\n",
        "nba.shape"
      ],
      "execution_count": 39,
      "outputs": [
        {
          "output_type": "execute_result",
          "data": {
            "text/plain": [
              "(126314, 23)"
            ]
          },
          "metadata": {
            "tags": []
          },
          "execution_count": 39
        }
      ]
    },
    {
      "cell_type": "code",
      "metadata": {
        "id": "DcB9G8XyKdq5",
        "colab_type": "code",
        "colab": {}
      },
      "source": [
        "pd.set_option(\"display.max.columns\", None)"
      ],
      "execution_count": 0,
      "outputs": []
    },
    {
      "cell_type": "code",
      "metadata": {
        "id": "meeC13VmLoNZ",
        "colab_type": "code",
        "colab": {
          "base_uri": "https://localhost:8080/",
          "height": 224
        },
        "outputId": "63cd5585-38a6-400d-9da3-fd1ca43657c1"
      },
      "source": [
        "nba.head()"
      ],
      "execution_count": 42,
      "outputs": [
        {
          "output_type": "execute_result",
          "data": {
            "text/html": [
              "<div>\n",
              "<style scoped>\n",
              "    .dataframe tbody tr th:only-of-type {\n",
              "        vertical-align: middle;\n",
              "    }\n",
              "\n",
              "    .dataframe tbody tr th {\n",
              "        vertical-align: top;\n",
              "    }\n",
              "\n",
              "    .dataframe thead th {\n",
              "        text-align: right;\n",
              "    }\n",
              "</style>\n",
              "<table border=\"1\" class=\"dataframe\">\n",
              "  <thead>\n",
              "    <tr style=\"text-align: right;\">\n",
              "      <th></th>\n",
              "      <th>gameorder</th>\n",
              "      <th>game_id</th>\n",
              "      <th>lg_id</th>\n",
              "      <th>_iscopy</th>\n",
              "      <th>year_id</th>\n",
              "      <th>date_game</th>\n",
              "      <th>seasongame</th>\n",
              "      <th>is_playoffs</th>\n",
              "      <th>team_id</th>\n",
              "      <th>fran_id</th>\n",
              "      <th>pts</th>\n",
              "      <th>elo_i</th>\n",
              "      <th>elo_n</th>\n",
              "      <th>win_equiv</th>\n",
              "      <th>opp_id</th>\n",
              "      <th>opp_fran</th>\n",
              "      <th>opp_pts</th>\n",
              "      <th>opp_elo_i</th>\n",
              "      <th>opp_elo_n</th>\n",
              "      <th>game_location</th>\n",
              "      <th>game_result</th>\n",
              "      <th>forecast</th>\n",
              "      <th>notes</th>\n",
              "    </tr>\n",
              "  </thead>\n",
              "  <tbody>\n",
              "    <tr>\n",
              "      <th>0</th>\n",
              "      <td>1</td>\n",
              "      <td>194611010TRH</td>\n",
              "      <td>NBA</td>\n",
              "      <td>0</td>\n",
              "      <td>1947</td>\n",
              "      <td>11/1/1946</td>\n",
              "      <td>1</td>\n",
              "      <td>0</td>\n",
              "      <td>TRH</td>\n",
              "      <td>Huskies</td>\n",
              "      <td>66</td>\n",
              "      <td>1300.00</td>\n",
              "      <td>1293.28</td>\n",
              "      <td>40.29</td>\n",
              "      <td>NYK</td>\n",
              "      <td>Knicks</td>\n",
              "      <td>68</td>\n",
              "      <td>1300.00</td>\n",
              "      <td>1306.72</td>\n",
              "      <td>H</td>\n",
              "      <td>L</td>\n",
              "      <td>0.64</td>\n",
              "      <td>NaN</td>\n",
              "    </tr>\n",
              "    <tr>\n",
              "      <th>1</th>\n",
              "      <td>1</td>\n",
              "      <td>194611010TRH</td>\n",
              "      <td>NBA</td>\n",
              "      <td>1</td>\n",
              "      <td>1947</td>\n",
              "      <td>11/1/1946</td>\n",
              "      <td>1</td>\n",
              "      <td>0</td>\n",
              "      <td>NYK</td>\n",
              "      <td>Knicks</td>\n",
              "      <td>68</td>\n",
              "      <td>1300.00</td>\n",
              "      <td>1306.72</td>\n",
              "      <td>41.71</td>\n",
              "      <td>TRH</td>\n",
              "      <td>Huskies</td>\n",
              "      <td>66</td>\n",
              "      <td>1300.00</td>\n",
              "      <td>1293.28</td>\n",
              "      <td>A</td>\n",
              "      <td>W</td>\n",
              "      <td>0.36</td>\n",
              "      <td>NaN</td>\n",
              "    </tr>\n",
              "    <tr>\n",
              "      <th>2</th>\n",
              "      <td>2</td>\n",
              "      <td>194611020CHS</td>\n",
              "      <td>NBA</td>\n",
              "      <td>0</td>\n",
              "      <td>1947</td>\n",
              "      <td>11/2/1946</td>\n",
              "      <td>1</td>\n",
              "      <td>0</td>\n",
              "      <td>CHS</td>\n",
              "      <td>Stags</td>\n",
              "      <td>63</td>\n",
              "      <td>1300.00</td>\n",
              "      <td>1309.65</td>\n",
              "      <td>42.01</td>\n",
              "      <td>NYK</td>\n",
              "      <td>Knicks</td>\n",
              "      <td>47</td>\n",
              "      <td>1306.72</td>\n",
              "      <td>1297.07</td>\n",
              "      <td>H</td>\n",
              "      <td>W</td>\n",
              "      <td>0.63</td>\n",
              "      <td>NaN</td>\n",
              "    </tr>\n",
              "    <tr>\n",
              "      <th>3</th>\n",
              "      <td>2</td>\n",
              "      <td>194611020CHS</td>\n",
              "      <td>NBA</td>\n",
              "      <td>1</td>\n",
              "      <td>1947</td>\n",
              "      <td>11/2/1946</td>\n",
              "      <td>2</td>\n",
              "      <td>0</td>\n",
              "      <td>NYK</td>\n",
              "      <td>Knicks</td>\n",
              "      <td>47</td>\n",
              "      <td>1306.72</td>\n",
              "      <td>1297.07</td>\n",
              "      <td>40.69</td>\n",
              "      <td>CHS</td>\n",
              "      <td>Stags</td>\n",
              "      <td>63</td>\n",
              "      <td>1300.00</td>\n",
              "      <td>1309.65</td>\n",
              "      <td>A</td>\n",
              "      <td>L</td>\n",
              "      <td>0.37</td>\n",
              "      <td>NaN</td>\n",
              "    </tr>\n",
              "    <tr>\n",
              "      <th>4</th>\n",
              "      <td>3</td>\n",
              "      <td>194611020DTF</td>\n",
              "      <td>NBA</td>\n",
              "      <td>0</td>\n",
              "      <td>1947</td>\n",
              "      <td>11/2/1946</td>\n",
              "      <td>1</td>\n",
              "      <td>0</td>\n",
              "      <td>DTF</td>\n",
              "      <td>Falcons</td>\n",
              "      <td>33</td>\n",
              "      <td>1300.00</td>\n",
              "      <td>1279.62</td>\n",
              "      <td>38.86</td>\n",
              "      <td>WSC</td>\n",
              "      <td>Capitols</td>\n",
              "      <td>50</td>\n",
              "      <td>1300.00</td>\n",
              "      <td>1320.38</td>\n",
              "      <td>H</td>\n",
              "      <td>L</td>\n",
              "      <td>0.64</td>\n",
              "      <td>NaN</td>\n",
              "    </tr>\n",
              "  </tbody>\n",
              "</table>\n",
              "</div>"
            ],
            "text/plain": [
              "   gameorder       game_id lg_id  _iscopy  year_id  date_game  seasongame  \\\n",
              "0          1  194611010TRH   NBA        0     1947  11/1/1946           1   \n",
              "1          1  194611010TRH   NBA        1     1947  11/1/1946           1   \n",
              "2          2  194611020CHS   NBA        0     1947  11/2/1946           1   \n",
              "3          2  194611020CHS   NBA        1     1947  11/2/1946           2   \n",
              "4          3  194611020DTF   NBA        0     1947  11/2/1946           1   \n",
              "\n",
              "   is_playoffs team_id  fran_id  pts    elo_i    elo_n  win_equiv opp_id  \\\n",
              "0            0     TRH  Huskies   66  1300.00  1293.28      40.29    NYK   \n",
              "1            0     NYK   Knicks   68  1300.00  1306.72      41.71    TRH   \n",
              "2            0     CHS    Stags   63  1300.00  1309.65      42.01    NYK   \n",
              "3            0     NYK   Knicks   47  1306.72  1297.07      40.69    CHS   \n",
              "4            0     DTF  Falcons   33  1300.00  1279.62      38.86    WSC   \n",
              "\n",
              "   opp_fran  opp_pts  opp_elo_i  opp_elo_n game_location game_result  \\\n",
              "0    Knicks       68    1300.00    1306.72             H           L   \n",
              "1   Huskies       66    1300.00    1293.28             A           W   \n",
              "2    Knicks       47    1306.72    1297.07             H           W   \n",
              "3     Stags       63    1300.00    1309.65             A           L   \n",
              "4  Capitols       50    1300.00    1320.38             H           L   \n",
              "\n",
              "   forecast notes  \n",
              "0      0.64   NaN  \n",
              "1      0.36   NaN  \n",
              "2      0.63   NaN  \n",
              "3      0.37   NaN  \n",
              "4      0.64   NaN  "
            ]
          },
          "metadata": {
            "tags": []
          },
          "execution_count": 42
        }
      ]
    },
    {
      "cell_type": "code",
      "metadata": {
        "id": "YDeawq-6LX8i",
        "colab_type": "code",
        "colab": {}
      },
      "source": [
        "pd.set_option(\"display.precision\", 2)"
      ],
      "execution_count": 0,
      "outputs": []
    },
    {
      "cell_type": "code",
      "metadata": {
        "id": "aqWCjNvTLhJp",
        "colab_type": "code",
        "colab": {
          "base_uri": "https://localhost:8080/",
          "height": 224
        },
        "outputId": "f7162e66-6acc-47db-b3fc-3b75e69085ba"
      },
      "source": [
        "nba.head()"
      ],
      "execution_count": 44,
      "outputs": [
        {
          "output_type": "execute_result",
          "data": {
            "text/html": [
              "<div>\n",
              "<style scoped>\n",
              "    .dataframe tbody tr th:only-of-type {\n",
              "        vertical-align: middle;\n",
              "    }\n",
              "\n",
              "    .dataframe tbody tr th {\n",
              "        vertical-align: top;\n",
              "    }\n",
              "\n",
              "    .dataframe thead th {\n",
              "        text-align: right;\n",
              "    }\n",
              "</style>\n",
              "<table border=\"1\" class=\"dataframe\">\n",
              "  <thead>\n",
              "    <tr style=\"text-align: right;\">\n",
              "      <th></th>\n",
              "      <th>gameorder</th>\n",
              "      <th>game_id</th>\n",
              "      <th>lg_id</th>\n",
              "      <th>_iscopy</th>\n",
              "      <th>year_id</th>\n",
              "      <th>date_game</th>\n",
              "      <th>seasongame</th>\n",
              "      <th>is_playoffs</th>\n",
              "      <th>team_id</th>\n",
              "      <th>fran_id</th>\n",
              "      <th>pts</th>\n",
              "      <th>elo_i</th>\n",
              "      <th>elo_n</th>\n",
              "      <th>win_equiv</th>\n",
              "      <th>opp_id</th>\n",
              "      <th>opp_fran</th>\n",
              "      <th>opp_pts</th>\n",
              "      <th>opp_elo_i</th>\n",
              "      <th>opp_elo_n</th>\n",
              "      <th>game_location</th>\n",
              "      <th>game_result</th>\n",
              "      <th>forecast</th>\n",
              "      <th>notes</th>\n",
              "    </tr>\n",
              "  </thead>\n",
              "  <tbody>\n",
              "    <tr>\n",
              "      <th>0</th>\n",
              "      <td>1</td>\n",
              "      <td>194611010TRH</td>\n",
              "      <td>NBA</td>\n",
              "      <td>0</td>\n",
              "      <td>1947</td>\n",
              "      <td>11/1/1946</td>\n",
              "      <td>1</td>\n",
              "      <td>0</td>\n",
              "      <td>TRH</td>\n",
              "      <td>Huskies</td>\n",
              "      <td>66</td>\n",
              "      <td>1300.00</td>\n",
              "      <td>1293.28</td>\n",
              "      <td>40.29</td>\n",
              "      <td>NYK</td>\n",
              "      <td>Knicks</td>\n",
              "      <td>68</td>\n",
              "      <td>1300.00</td>\n",
              "      <td>1306.72</td>\n",
              "      <td>H</td>\n",
              "      <td>L</td>\n",
              "      <td>0.64</td>\n",
              "      <td>NaN</td>\n",
              "    </tr>\n",
              "    <tr>\n",
              "      <th>1</th>\n",
              "      <td>1</td>\n",
              "      <td>194611010TRH</td>\n",
              "      <td>NBA</td>\n",
              "      <td>1</td>\n",
              "      <td>1947</td>\n",
              "      <td>11/1/1946</td>\n",
              "      <td>1</td>\n",
              "      <td>0</td>\n",
              "      <td>NYK</td>\n",
              "      <td>Knicks</td>\n",
              "      <td>68</td>\n",
              "      <td>1300.00</td>\n",
              "      <td>1306.72</td>\n",
              "      <td>41.71</td>\n",
              "      <td>TRH</td>\n",
              "      <td>Huskies</td>\n",
              "      <td>66</td>\n",
              "      <td>1300.00</td>\n",
              "      <td>1293.28</td>\n",
              "      <td>A</td>\n",
              "      <td>W</td>\n",
              "      <td>0.36</td>\n",
              "      <td>NaN</td>\n",
              "    </tr>\n",
              "    <tr>\n",
              "      <th>2</th>\n",
              "      <td>2</td>\n",
              "      <td>194611020CHS</td>\n",
              "      <td>NBA</td>\n",
              "      <td>0</td>\n",
              "      <td>1947</td>\n",
              "      <td>11/2/1946</td>\n",
              "      <td>1</td>\n",
              "      <td>0</td>\n",
              "      <td>CHS</td>\n",
              "      <td>Stags</td>\n",
              "      <td>63</td>\n",
              "      <td>1300.00</td>\n",
              "      <td>1309.65</td>\n",
              "      <td>42.01</td>\n",
              "      <td>NYK</td>\n",
              "      <td>Knicks</td>\n",
              "      <td>47</td>\n",
              "      <td>1306.72</td>\n",
              "      <td>1297.07</td>\n",
              "      <td>H</td>\n",
              "      <td>W</td>\n",
              "      <td>0.63</td>\n",
              "      <td>NaN</td>\n",
              "    </tr>\n",
              "    <tr>\n",
              "      <th>3</th>\n",
              "      <td>2</td>\n",
              "      <td>194611020CHS</td>\n",
              "      <td>NBA</td>\n",
              "      <td>1</td>\n",
              "      <td>1947</td>\n",
              "      <td>11/2/1946</td>\n",
              "      <td>2</td>\n",
              "      <td>0</td>\n",
              "      <td>NYK</td>\n",
              "      <td>Knicks</td>\n",
              "      <td>47</td>\n",
              "      <td>1306.72</td>\n",
              "      <td>1297.07</td>\n",
              "      <td>40.69</td>\n",
              "      <td>CHS</td>\n",
              "      <td>Stags</td>\n",
              "      <td>63</td>\n",
              "      <td>1300.00</td>\n",
              "      <td>1309.65</td>\n",
              "      <td>A</td>\n",
              "      <td>L</td>\n",
              "      <td>0.37</td>\n",
              "      <td>NaN</td>\n",
              "    </tr>\n",
              "    <tr>\n",
              "      <th>4</th>\n",
              "      <td>3</td>\n",
              "      <td>194611020DTF</td>\n",
              "      <td>NBA</td>\n",
              "      <td>0</td>\n",
              "      <td>1947</td>\n",
              "      <td>11/2/1946</td>\n",
              "      <td>1</td>\n",
              "      <td>0</td>\n",
              "      <td>DTF</td>\n",
              "      <td>Falcons</td>\n",
              "      <td>33</td>\n",
              "      <td>1300.00</td>\n",
              "      <td>1279.62</td>\n",
              "      <td>38.86</td>\n",
              "      <td>WSC</td>\n",
              "      <td>Capitols</td>\n",
              "      <td>50</td>\n",
              "      <td>1300.00</td>\n",
              "      <td>1320.38</td>\n",
              "      <td>H</td>\n",
              "      <td>L</td>\n",
              "      <td>0.64</td>\n",
              "      <td>NaN</td>\n",
              "    </tr>\n",
              "  </tbody>\n",
              "</table>\n",
              "</div>"
            ],
            "text/plain": [
              "   gameorder       game_id lg_id  _iscopy  year_id  date_game  seasongame  \\\n",
              "0          1  194611010TRH   NBA        0     1947  11/1/1946           1   \n",
              "1          1  194611010TRH   NBA        1     1947  11/1/1946           1   \n",
              "2          2  194611020CHS   NBA        0     1947  11/2/1946           1   \n",
              "3          2  194611020CHS   NBA        1     1947  11/2/1946           2   \n",
              "4          3  194611020DTF   NBA        0     1947  11/2/1946           1   \n",
              "\n",
              "   is_playoffs team_id  fran_id  pts    elo_i    elo_n  win_equiv opp_id  \\\n",
              "0            0     TRH  Huskies   66  1300.00  1293.28      40.29    NYK   \n",
              "1            0     NYK   Knicks   68  1300.00  1306.72      41.71    TRH   \n",
              "2            0     CHS    Stags   63  1300.00  1309.65      42.01    NYK   \n",
              "3            0     NYK   Knicks   47  1306.72  1297.07      40.69    CHS   \n",
              "4            0     DTF  Falcons   33  1300.00  1279.62      38.86    WSC   \n",
              "\n",
              "   opp_fran  opp_pts  opp_elo_i  opp_elo_n game_location game_result  \\\n",
              "0    Knicks       68    1300.00    1306.72             H           L   \n",
              "1   Huskies       66    1300.00    1293.28             A           W   \n",
              "2    Knicks       47    1306.72    1297.07             H           W   \n",
              "3     Stags       63    1300.00    1309.65             A           L   \n",
              "4  Capitols       50    1300.00    1320.38             H           L   \n",
              "\n",
              "   forecast notes  \n",
              "0      0.64   NaN  \n",
              "1      0.36   NaN  \n",
              "2      0.63   NaN  \n",
              "3      0.37   NaN  \n",
              "4      0.64   NaN  "
            ]
          },
          "metadata": {
            "tags": []
          },
          "execution_count": 44
        }
      ]
    },
    {
      "cell_type": "code",
      "metadata": {
        "id": "5Bp4l4xsLmF-",
        "colab_type": "code",
        "colab": {
          "base_uri": "https://localhost:8080/",
          "height": 162
        },
        "outputId": "2142a8a5-8c4b-4dfe-bd72-9fd6029056c7"
      },
      "source": [
        "nba.tail(3)"
      ],
      "execution_count": 45,
      "outputs": [
        {
          "output_type": "execute_result",
          "data": {
            "text/html": [
              "<div>\n",
              "<style scoped>\n",
              "    .dataframe tbody tr th:only-of-type {\n",
              "        vertical-align: middle;\n",
              "    }\n",
              "\n",
              "    .dataframe tbody tr th {\n",
              "        vertical-align: top;\n",
              "    }\n",
              "\n",
              "    .dataframe thead th {\n",
              "        text-align: right;\n",
              "    }\n",
              "</style>\n",
              "<table border=\"1\" class=\"dataframe\">\n",
              "  <thead>\n",
              "    <tr style=\"text-align: right;\">\n",
              "      <th></th>\n",
              "      <th>gameorder</th>\n",
              "      <th>game_id</th>\n",
              "      <th>lg_id</th>\n",
              "      <th>_iscopy</th>\n",
              "      <th>year_id</th>\n",
              "      <th>date_game</th>\n",
              "      <th>seasongame</th>\n",
              "      <th>is_playoffs</th>\n",
              "      <th>team_id</th>\n",
              "      <th>fran_id</th>\n",
              "      <th>pts</th>\n",
              "      <th>elo_i</th>\n",
              "      <th>elo_n</th>\n",
              "      <th>win_equiv</th>\n",
              "      <th>opp_id</th>\n",
              "      <th>opp_fran</th>\n",
              "      <th>opp_pts</th>\n",
              "      <th>opp_elo_i</th>\n",
              "      <th>opp_elo_n</th>\n",
              "      <th>game_location</th>\n",
              "      <th>game_result</th>\n",
              "      <th>forecast</th>\n",
              "      <th>notes</th>\n",
              "    </tr>\n",
              "  </thead>\n",
              "  <tbody>\n",
              "    <tr>\n",
              "      <th>126311</th>\n",
              "      <td>63156</td>\n",
              "      <td>201506140GSW</td>\n",
              "      <td>NBA</td>\n",
              "      <td>1</td>\n",
              "      <td>2015</td>\n",
              "      <td>6/14/2015</td>\n",
              "      <td>101</td>\n",
              "      <td>1</td>\n",
              "      <td>CLE</td>\n",
              "      <td>Cavaliers</td>\n",
              "      <td>91</td>\n",
              "      <td>1704.39</td>\n",
              "      <td>1700.74</td>\n",
              "      <td>60.01</td>\n",
              "      <td>GSW</td>\n",
              "      <td>Warriors</td>\n",
              "      <td>104</td>\n",
              "      <td>1809.98</td>\n",
              "      <td>1813.63</td>\n",
              "      <td>A</td>\n",
              "      <td>L</td>\n",
              "      <td>0.23</td>\n",
              "      <td>NaN</td>\n",
              "    </tr>\n",
              "    <tr>\n",
              "      <th>126312</th>\n",
              "      <td>63157</td>\n",
              "      <td>201506170CLE</td>\n",
              "      <td>NBA</td>\n",
              "      <td>0</td>\n",
              "      <td>2015</td>\n",
              "      <td>6/16/2015</td>\n",
              "      <td>102</td>\n",
              "      <td>1</td>\n",
              "      <td>CLE</td>\n",
              "      <td>Cavaliers</td>\n",
              "      <td>97</td>\n",
              "      <td>1700.74</td>\n",
              "      <td>1692.09</td>\n",
              "      <td>59.29</td>\n",
              "      <td>GSW</td>\n",
              "      <td>Warriors</td>\n",
              "      <td>105</td>\n",
              "      <td>1813.63</td>\n",
              "      <td>1822.29</td>\n",
              "      <td>H</td>\n",
              "      <td>L</td>\n",
              "      <td>0.48</td>\n",
              "      <td>NaN</td>\n",
              "    </tr>\n",
              "    <tr>\n",
              "      <th>126313</th>\n",
              "      <td>63157</td>\n",
              "      <td>201506170CLE</td>\n",
              "      <td>NBA</td>\n",
              "      <td>1</td>\n",
              "      <td>2015</td>\n",
              "      <td>6/16/2015</td>\n",
              "      <td>103</td>\n",
              "      <td>1</td>\n",
              "      <td>GSW</td>\n",
              "      <td>Warriors</td>\n",
              "      <td>105</td>\n",
              "      <td>1813.63</td>\n",
              "      <td>1822.29</td>\n",
              "      <td>68.52</td>\n",
              "      <td>CLE</td>\n",
              "      <td>Cavaliers</td>\n",
              "      <td>97</td>\n",
              "      <td>1700.74</td>\n",
              "      <td>1692.09</td>\n",
              "      <td>A</td>\n",
              "      <td>W</td>\n",
              "      <td>0.52</td>\n",
              "      <td>NaN</td>\n",
              "    </tr>\n",
              "  </tbody>\n",
              "</table>\n",
              "</div>"
            ],
            "text/plain": [
              "        gameorder       game_id lg_id  _iscopy  year_id  date_game  \\\n",
              "126311      63156  201506140GSW   NBA        1     2015  6/14/2015   \n",
              "126312      63157  201506170CLE   NBA        0     2015  6/16/2015   \n",
              "126313      63157  201506170CLE   NBA        1     2015  6/16/2015   \n",
              "\n",
              "        seasongame  is_playoffs team_id    fran_id  pts    elo_i    elo_n  \\\n",
              "126311         101            1     CLE  Cavaliers   91  1704.39  1700.74   \n",
              "126312         102            1     CLE  Cavaliers   97  1700.74  1692.09   \n",
              "126313         103            1     GSW   Warriors  105  1813.63  1822.29   \n",
              "\n",
              "        win_equiv opp_id   opp_fran  opp_pts  opp_elo_i  opp_elo_n  \\\n",
              "126311      60.01    GSW   Warriors      104    1809.98    1813.63   \n",
              "126312      59.29    GSW   Warriors      105    1813.63    1822.29   \n",
              "126313      68.52    CLE  Cavaliers       97    1700.74    1692.09   \n",
              "\n",
              "       game_location game_result  forecast notes  \n",
              "126311             A           L      0.23   NaN  \n",
              "126312             H           L      0.48   NaN  \n",
              "126313             A           W      0.52   NaN  "
            ]
          },
          "metadata": {
            "tags": []
          },
          "execution_count": 45
        }
      ]
    },
    {
      "cell_type": "markdown",
      "metadata": {
        "id": "AGi3L5UlM0vY",
        "colab_type": "text"
      },
      "source": [
        "Use .info() to display all columns and data type"
      ]
    },
    {
      "cell_type": "code",
      "metadata": {
        "id": "dvHWZEIYMHax",
        "colab_type": "code",
        "colab": {}
      },
      "source": [
        "nba.info()"
      ],
      "execution_count": 0,
      "outputs": []
    },
    {
      "cell_type": "markdown",
      "metadata": {
        "id": "fjMthtVkM8fF",
        "colab_type": "text"
      },
      "source": [
        "# Showing Basics Statistics"
      ]
    },
    {
      "cell_type": "markdown",
      "metadata": {
        "id": "-8_Rm0CuNn3p",
        "colab_type": "text"
      },
      "source": [
        ".describe() to see basic descriptive statistics for all numeric columns"
      ]
    },
    {
      "cell_type": "code",
      "metadata": {
        "id": "5BV-DrOdM6y9",
        "colab_type": "code",
        "colab": {}
      },
      "source": [
        "nba.describe()"
      ],
      "execution_count": 0,
      "outputs": []
    },
    {
      "cell_type": "code",
      "metadata": {
        "id": "9o0pyF5gNmTd",
        "colab_type": "code",
        "colab": {
          "base_uri": "https://localhost:8080/",
          "height": 173
        },
        "outputId": "fed00672-963b-4ec2-8cc4-d30870befd16"
      },
      "source": [
        "import numpy as np\n",
        "nba.describe(include=np.object)"
      ],
      "execution_count": 48,
      "outputs": [
        {
          "output_type": "execute_result",
          "data": {
            "text/html": [
              "<div>\n",
              "<style scoped>\n",
              "    .dataframe tbody tr th:only-of-type {\n",
              "        vertical-align: middle;\n",
              "    }\n",
              "\n",
              "    .dataframe tbody tr th {\n",
              "        vertical-align: top;\n",
              "    }\n",
              "\n",
              "    .dataframe thead th {\n",
              "        text-align: right;\n",
              "    }\n",
              "</style>\n",
              "<table border=\"1\" class=\"dataframe\">\n",
              "  <thead>\n",
              "    <tr style=\"text-align: right;\">\n",
              "      <th></th>\n",
              "      <th>game_id</th>\n",
              "      <th>lg_id</th>\n",
              "      <th>date_game</th>\n",
              "      <th>team_id</th>\n",
              "      <th>fran_id</th>\n",
              "      <th>opp_id</th>\n",
              "      <th>opp_fran</th>\n",
              "      <th>game_location</th>\n",
              "      <th>game_result</th>\n",
              "      <th>notes</th>\n",
              "    </tr>\n",
              "  </thead>\n",
              "  <tbody>\n",
              "    <tr>\n",
              "      <th>count</th>\n",
              "      <td>126314</td>\n",
              "      <td>126314</td>\n",
              "      <td>126314</td>\n",
              "      <td>126314</td>\n",
              "      <td>126314</td>\n",
              "      <td>126314</td>\n",
              "      <td>126314</td>\n",
              "      <td>126314</td>\n",
              "      <td>126314</td>\n",
              "      <td>5424</td>\n",
              "    </tr>\n",
              "    <tr>\n",
              "      <th>unique</th>\n",
              "      <td>63157</td>\n",
              "      <td>2</td>\n",
              "      <td>12426</td>\n",
              "      <td>104</td>\n",
              "      <td>53</td>\n",
              "      <td>104</td>\n",
              "      <td>53</td>\n",
              "      <td>3</td>\n",
              "      <td>2</td>\n",
              "      <td>231</td>\n",
              "    </tr>\n",
              "    <tr>\n",
              "      <th>top</th>\n",
              "      <td>198812230MIL</td>\n",
              "      <td>NBA</td>\n",
              "      <td>4/16/2014</td>\n",
              "      <td>BOS</td>\n",
              "      <td>Lakers</td>\n",
              "      <td>BOS</td>\n",
              "      <td>Lakers</td>\n",
              "      <td>A</td>\n",
              "      <td>W</td>\n",
              "      <td>at New York NY</td>\n",
              "    </tr>\n",
              "    <tr>\n",
              "      <th>freq</th>\n",
              "      <td>2</td>\n",
              "      <td>118016</td>\n",
              "      <td>30</td>\n",
              "      <td>5997</td>\n",
              "      <td>6024</td>\n",
              "      <td>5997</td>\n",
              "      <td>6024</td>\n",
              "      <td>63138</td>\n",
              "      <td>63157</td>\n",
              "      <td>440</td>\n",
              "    </tr>\n",
              "  </tbody>\n",
              "</table>\n",
              "</div>"
            ],
            "text/plain": [
              "             game_id   lg_id  date_game team_id fran_id  opp_id opp_fran  \\\n",
              "count         126314  126314     126314  126314  126314  126314   126314   \n",
              "unique         63157       2      12426     104      53     104       53   \n",
              "top     198812230MIL     NBA  4/16/2014     BOS  Lakers     BOS   Lakers   \n",
              "freq               2  118016         30    5997    6024    5997     6024   \n",
              "\n",
              "       game_location game_result           notes  \n",
              "count         126314      126314            5424  \n",
              "unique             3           2             231  \n",
              "top                A           W  at New York NY  \n",
              "freq           63138       63157             440  "
            ]
          },
          "metadata": {
            "tags": []
          },
          "execution_count": 48
        }
      ]
    },
    {
      "cell_type": "markdown",
      "metadata": {
        "id": "DfQvMTDbOnMK",
        "colab_type": "text"
      },
      "source": [
        "Take a look at the team_id and fran_id columns. Your dataset contains 104 different team IDs, but only 53 different franchise IDs. Furthermore, the most frequent team ID is BOS, but the most frequent franchise ID Lakers. How is that possible? You’ll need to explore your dataset a bit more to answer this question.\n"
      ]
    },
    {
      "cell_type": "markdown",
      "metadata": {
        "id": "G1oxZpJgdIG2",
        "colab_type": "text"
      },
      "source": [
        ""
      ]
    },
    {
      "cell_type": "code",
      "metadata": {
        "id": "RsS2wjwMdKxY",
        "colab_type": "code",
        "colab": {}
      },
      "source": [
        "# Exploring Your Dataset"
      ],
      "execution_count": 0,
      "outputs": []
    },
    {
      "cell_type": "code",
      "metadata": {
        "id": "04eKqjfKdRNn",
        "colab_type": "code",
        "colab": {}
      },
      "source": [
        "nba[\"team_id\"].value_counts()"
      ],
      "execution_count": 0,
      "outputs": []
    },
    {
      "cell_type": "code",
      "metadata": {
        "id": "5cL2Lh8pdfiT",
        "colab_type": "code",
        "colab": {}
      },
      "source": [
        "nba[\"fran_id\"].value_counts()"
      ],
      "execution_count": 0,
      "outputs": []
    },
    {
      "cell_type": "markdown",
      "metadata": {
        "id": "Hkw45GRsexFD",
        "colab_type": "text"
      },
      "source": [
        "DataFrame.loc¶\n",
        "Access a group of rows and columns by label(s) or a boolean array.\n",
        "\n",
        ".loc[] is primarily label based, but may also be used with a boolean array."
      ]
    },
    {
      "cell_type": "code",
      "metadata": {
        "id": "yZXou4cceyog",
        "colab_type": "code",
        "colab": {
          "base_uri": "https://localhost:8080/",
          "height": 68
        },
        "outputId": "0990f791-6ef2-404e-b4be-97336c8553eb"
      },
      "source": [
        "nba.loc[nba[\"fran_id\"] == \"Lakers\", \"team_id\"].value_counts()"
      ],
      "execution_count": 53,
      "outputs": [
        {
          "output_type": "execute_result",
          "data": {
            "text/plain": [
              "LAL    5078\n",
              "MNL     946\n",
              "Name: team_id, dtype: int64"
            ]
          },
          "metadata": {
            "tags": []
          },
          "execution_count": 53
        }
      ]
    },
    {
      "cell_type": "code",
      "metadata": {
        "id": "M7JZlwY1fKEw",
        "colab_type": "code",
        "colab": {
          "base_uri": "https://localhost:8080/",
          "height": 34
        },
        "outputId": "78618951-2cf9-4fea-f8c4-13b654f7f062"
      },
      "source": [
        "nba.loc[nba['team_id'] == \"MNL\", \"date_game\"].min()"
      ],
      "execution_count": 55,
      "outputs": [
        {
          "output_type": "execute_result",
          "data": {
            "text/plain": [
              "'1/1/1949'"
            ]
          },
          "metadata": {
            "tags": []
          },
          "execution_count": 55
        }
      ]
    },
    {
      "cell_type": "code",
      "metadata": {
        "id": "RoHJ2Do7fi8w",
        "colab_type": "code",
        "colab": {
          "base_uri": "https://localhost:8080/",
          "height": 34
        },
        "outputId": "1b20ebc6-615b-40bf-8406-f30abb56fa81"
      },
      "source": [
        "nba.loc[nba[\"team_id\"] == \"MNL\", \"date_game\"].max()"
      ],
      "execution_count": 56,
      "outputs": [
        {
          "output_type": "execute_result",
          "data": {
            "text/plain": [
              "'4/9/1959'"
            ]
          },
          "metadata": {
            "tags": []
          },
          "execution_count": 56
        }
      ]
    },
    {
      "cell_type": "markdown",
      "metadata": {
        "id": "ZfXMlESpijaL",
        "colab_type": "text"
      },
      "source": [
        "DataFrame.agg(self, func, axis=0, *args, **kwargs)[source]\n",
        "Aggregate using one or more operations over the specified axis."
      ]
    },
    {
      "cell_type": "code",
      "metadata": {
        "id": "-5-zlkR7fe8P",
        "colab_type": "code",
        "colab": {
          "base_uri": "https://localhost:8080/",
          "height": 68
        },
        "outputId": "5b7dbc5a-5a1f-42c5-cacc-ce7d64475006"
      },
      "source": [
        "nba.loc[nba[\"team_id\"] == \"MNL\", \"date_game\"].agg((\"min\",\"max\"))"
      ],
      "execution_count": 58,
      "outputs": [
        {
          "output_type": "execute_result",
          "data": {
            "text/plain": [
              "min    1/1/1949\n",
              "max    4/9/1959\n",
              "Name: date_game, dtype: object"
            ]
          },
          "metadata": {
            "tags": []
          },
          "execution_count": 58
        }
      ]
    },
    {
      "cell_type": "markdown",
      "metadata": {
        "id": "NEnMflXRi6bl",
        "colab_type": "text"
      },
      "source": [
        "It looks like the Minneapolis Lakers played between the years of 1949 and 1959. That explains why you might not recognize this team!"
      ]
    },
    {
      "cell_type": "markdown",
      "metadata": {
        "id": "wR4PHRgJkSTx",
        "colab_type": "text"
      },
      "source": [
        "###### Why the Boston Celtics team \"BOS\" played the most games in the dataset?\n",
        "###### How many points the Boston Celtics have scored during all matches contained in this dataset?\n"
      ]
    },
    {
      "cell_type": "code",
      "metadata": {
        "id": "DfLWlJkmiewP",
        "colab_type": "code",
        "colab": {
          "base_uri": "https://localhost:8080/",
          "height": 34
        },
        "outputId": "f9eaace0-0daf-43c9-e7c6-c45ebc25cdeb"
      },
      "source": [
        "nba.loc[nba[\"team_id\"] == \"BOS\" , \"pts\"].agg(\"sum\")"
      ],
      "execution_count": 62,
      "outputs": [
        {
          "output_type": "execute_result",
          "data": {
            "text/plain": [
              "626484"
            ]
          },
          "metadata": {
            "tags": []
          },
          "execution_count": 62
        }
      ]
    },
    {
      "cell_type": "markdown",
      "metadata": {
        "id": "5pAkJVm4kX2V",
        "colab_type": "text"
      },
      "source": [
        "# Getting to Know Pandas’ Data Structures"
      ]
    },
    {
      "cell_type": "markdown",
      "metadata": {
        "id": "ib29aq10kb_8",
        "colab_type": "text"
      },
      "source": [
        "## Understanding Series Objects"
      ]
    },
    {
      "cell_type": "markdown",
      "metadata": {
        "id": "dNAQGA5Lky_V",
        "colab_type": "text"
      },
      "source": [
        "Python’s most basic data structure is the list, which is also a good starting point for getting to know pandas.Series objects. Create a new Series object based on a list:\n",
        "\n"
      ]
    },
    {
      "cell_type": "code",
      "metadata": {
        "id": "RbW7HaEojunQ",
        "colab_type": "code",
        "colab": {
          "base_uri": "https://localhost:8080/",
          "height": 85
        },
        "outputId": "3a0af671-d699-40ca-b743-840b21cb28d8"
      },
      "source": [
        "revenues = pd.Series([5555,7000,1990])\n",
        "revenues"
      ],
      "execution_count": 64,
      "outputs": [
        {
          "output_type": "execute_result",
          "data": {
            "text/plain": [
              "0    5555\n",
              "1    7000\n",
              "2    1990\n",
              "dtype: int64"
            ]
          },
          "metadata": {
            "tags": []
          },
          "execution_count": 64
        }
      ]
    },
    {
      "cell_type": "markdown",
      "metadata": {
        "id": "x_ChvNoilIKT",
        "colab_type": "text"
      },
      "source": [
        "A Series object wraps two components:\n",
        "\n",
        "A sequence of values\n",
        "A sequence of identifiers, which is the index"
      ]
    },
    {
      "cell_type": "code",
      "metadata": {
        "id": "Vg8YoLdMkWtl",
        "colab_type": "code",
        "colab": {
          "base_uri": "https://localhost:8080/",
          "height": 34
        },
        "outputId": "bc3eea62-1046-4a71-fd3f-bbcd105aaf8d"
      },
      "source": [
        "revenues.values"
      ],
      "execution_count": 70,
      "outputs": [
        {
          "output_type": "execute_result",
          "data": {
            "text/plain": [
              "array([5555, 7000, 1990])"
            ]
          },
          "metadata": {
            "tags": []
          },
          "execution_count": 70
        }
      ]
    },
    {
      "cell_type": "code",
      "metadata": {
        "id": "OscYgqUWk8j2",
        "colab_type": "code",
        "colab": {
          "base_uri": "https://localhost:8080/",
          "height": 34
        },
        "outputId": "7847c85b-59b9-43a8-8c55-db9db5b9f5db"
      },
      "source": [
        "revenues.index"
      ],
      "execution_count": 69,
      "outputs": [
        {
          "output_type": "execute_result",
          "data": {
            "text/plain": [
              "RangeIndex(start=0, stop=3, step=1)"
            ]
          },
          "metadata": {
            "tags": []
          },
          "execution_count": 69
        }
      ]
    },
    {
      "cell_type": "code",
      "metadata": {
        "id": "IylUSnWZlDzW",
        "colab_type": "code",
        "colab": {
          "base_uri": "https://localhost:8080/",
          "height": 85
        },
        "outputId": "2f3e3741-8865-4392-ea3a-c29dcc181f70"
      },
      "source": [
        "city_revenues = pd.Series([5555, 7000, 1990], index = [\"NY\",\"NJ\",\"FL\"])\n",
        "city_revenues"
      ],
      "execution_count": 73,
      "outputs": [
        {
          "output_type": "execute_result",
          "data": {
            "text/plain": [
              "NY    5555\n",
              "NJ    7000\n",
              "FL    1990\n",
              "dtype: int64"
            ]
          },
          "metadata": {
            "tags": []
          },
          "execution_count": 73
        }
      ]
    },
    {
      "cell_type": "code",
      "metadata": {
        "id": "P7_tVdz8lop9",
        "colab_type": "code",
        "colab": {}
      },
      "source": [
        ""
      ],
      "execution_count": 0,
      "outputs": []
    }
  ]
}